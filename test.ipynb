{
 "cells": [
  {
   "cell_type": "markdown",
   "id": "34596f92",
   "metadata": {},
   "source": [
    "# to connect with spotify"
   ]
  },
  {
   "cell_type": "code",
   "execution_count": null,
   "id": "ce5de168",
   "metadata": {},
   "outputs": [
    {
     "ename": "NameError",
     "evalue": "name 'CLIENT_ID' is not defined",
     "output_type": "error",
     "traceback": [
      "\u001b[0;31m---------------------------------------------------------------------------\u001b[0m",
      "\u001b[0;31mNameError\u001b[0m                                 Traceback (most recent call last)",
      "Cell \u001b[0;32mIn[1], line 7\u001b[0m\n\u001b[1;32m      4\u001b[0m \u001b[38;5;28;01mimport\u001b[39;00m\u001b[38;5;250m \u001b[39m\u001b[38;5;21;01mos\u001b[39;00m\n\u001b[1;32m      5\u001b[0m load_dotenv()\n\u001b[1;32m      6\u001b[0m sp \u001b[38;5;241m=\u001b[39m spotipy\u001b[38;5;241m.\u001b[39mSpotify(auth_manager\u001b[38;5;241m=\u001b[39mSpotifyOAuth(\n\u001b[0;32m----> 7\u001b[0m     client_id\u001b[38;5;241m=\u001b[39m\u001b[43mCLIENT_ID\u001b[49m,\n\u001b[1;32m      8\u001b[0m     client_secret\u001b[38;5;241m=\u001b[39mCLIENT_SECRET,\n\u001b[1;32m      9\u001b[0m      redirect_uri\u001b[38;5;241m=\u001b[39m\u001b[38;5;124m\"\u001b[39m\u001b[38;5;124mhttp://127.0.0.1:8000/error\u001b[39m\u001b[38;5;124m\"\u001b[39m,\n\u001b[1;32m     10\u001b[0m     scope\u001b[38;5;241m=\u001b[39m\u001b[38;5;124m\"\u001b[39m\u001b[38;5;124muser-library-read playlist-modify-public user-top-read user-read-recently-played\u001b[39m\u001b[38;5;124m\"\u001b[39m\n\u001b[1;32m     11\u001b[0m ))\n",
      "\u001b[0;31mNameError\u001b[0m: name 'CLIENT_ID' is not defined"
     ]
    }
   ],
   "source": [
    "# …existing imports…\n",
    "import spotipy\n",
    "from spotipy.oauth2 import SpotifyOAuth\n",
    "from dotenv import load_dotenv\n",
    "import os\n",
    "\n",
    "load_dotenv()\n",
    "\n",
    "CLIENT_ID     = os.getenv(\"CLIENT_ID\")\n",
    "CLIENT_SECRET = os.getenv(\"CLIENT_SECRET\")\n",
    "REDIRECT_URI  = os.getenv(\"REDIRECT_URI\", \"http://127.0.0.1:8000/error\")\n",
    "\n",
    "if not CLIENT_ID or not CLIENT_SECRET:\n",
    "    raise RuntimeError(\"Missing CLIENT_ID or CLIENT_SECRET in environment\")\n",
    "\n",
    "sp = spotipy.Spotify(auth_manager=SpotifyOAuth(\n",
    "    client_id=CLIENT_ID,\n",
    "    client_secret=CLIENT_SECRET,\n",
    "    redirect_uri=REDIRECT_URI,\n",
    "    scope=\"user-library-read playlist-modify-public user-top-read user-read-recently-played\"\n",
    "))\n",
    "# …rest of your code…"
   ]
  },
  {
   "cell_type": "code",
   "execution_count": 6,
   "id": "c9c3816b",
   "metadata": {},
   "outputs": [
    {
     "name": "stdout",
     "output_type": "stream",
     "text": [
      "Ankit Sneh\n"
     ]
    }
   ],
   "source": [
    "user = sp.current_user()\n",
    "print(user['display_name'])\n"
   ]
  },
  {
   "cell_type": "code",
   "execution_count": 7,
   "id": "fa28661d",
   "metadata": {},
   "outputs": [
    {
     "name": "stdout",
     "output_type": "stream",
     "text": [
      "Shy - Nightcore - Sinnon Nightcore\n",
      "仙 - 《仙王的日常生活》主题曲 - 韦伯恩\n",
      "Moves Like Jagger - Studio Recording From \"The Voice\" Performance - Maroon 5\n",
      "death bed (coffee for your head) - Powfu\n",
      "Friendships - Pascal Letoublon\n",
      "The Greatest - Sia\n",
      "A Sky Full of Stars - Coldplay\n",
      "Paradise - Coldplay\n",
      "Bluest Flame - Selena Gomez\n",
      "Infinity - Jaymes Young\n"
     ]
    }
   ],
   "source": [
    "top_tracks = sp.current_user_top_tracks(limit=10, time_range='short_term')\n",
    "for track in top_tracks['items']:\n",
    "    print(track['name'], \"-\", track['artists'][0]['name'])\n"
   ]
  },
  {
   "cell_type": "code",
   "execution_count": null,
   "id": "565f305a",
   "metadata": {},
   "outputs": [],
   "source": []
  }
 ],
 "metadata": {
  "kernelspec": {
   "display_name": "spot",
   "language": "python",
   "name": "python3"
  },
  "language_info": {
   "codemirror_mode": {
    "name": "ipython",
    "version": 3
   },
   "file_extension": ".py",
   "mimetype": "text/x-python",
   "name": "python",
   "nbconvert_exporter": "python",
   "pygments_lexer": "ipython3",
   "version": "3.10.16"
  }
 },
 "nbformat": 4,
 "nbformat_minor": 5
}
